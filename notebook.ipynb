{
 "cells": [
  {
   "cell_type": "code",
   "execution_count": 8,
   "id": "6d58eeee",
   "metadata": {},
   "outputs": [
    {
     "name": "stdout",
     "output_type": "stream",
     "text": [
      "Requirement already satisfied: chromadb in /home/macronomical/Dev/DevTools/ml_venv/lib64/python3.13/site-packages (1.0.13)\n",
      "Requirement already satisfied: build>=1.0.3 in /home/macronomical/Dev/DevTools/ml_venv/lib64/python3.13/site-packages (from chromadb) (1.2.2.post1)\n",
      "Requirement already satisfied: pydantic>=1.9 in /home/macronomical/Dev/DevTools/ml_venv/lib64/python3.13/site-packages (from chromadb) (2.11.7)\n",
      "Requirement already satisfied: pybase64>=1.4.1 in /home/macronomical/Dev/DevTools/ml_venv/lib64/python3.13/site-packages (from chromadb) (1.4.1)\n",
      "Requirement already satisfied: uvicorn>=0.18.3 in /home/macronomical/Dev/DevTools/ml_venv/lib64/python3.13/site-packages (from uvicorn[standard]>=0.18.3->chromadb) (0.35.0)\n",
      "Requirement already satisfied: numpy>=1.22.5 in /home/macronomical/Dev/DevTools/ml_venv/lib64/python3.13/site-packages (from chromadb) (2.3.1)\n",
      "Requirement already satisfied: posthog>=2.4.0 in /home/macronomical/Dev/DevTools/ml_venv/lib64/python3.13/site-packages (from chromadb) (6.0.0)\n",
      "Requirement already satisfied: typing-extensions>=4.5.0 in /home/macronomical/Dev/DevTools/ml_venv/lib64/python3.13/site-packages (from chromadb) (4.14.0)\n",
      "Requirement already satisfied: onnxruntime>=1.14.1 in /home/macronomical/Dev/DevTools/ml_venv/lib64/python3.13/site-packages (from chromadb) (1.22.0)\n",
      "Requirement already satisfied: opentelemetry-api>=1.2.0 in /home/macronomical/Dev/DevTools/ml_venv/lib64/python3.13/site-packages (from chromadb) (1.34.1)\n",
      "Requirement already satisfied: opentelemetry-exporter-otlp-proto-grpc>=1.2.0 in /home/macronomical/Dev/DevTools/ml_venv/lib64/python3.13/site-packages (from chromadb) (1.34.1)\n",
      "Requirement already satisfied: opentelemetry-sdk>=1.2.0 in /home/macronomical/Dev/DevTools/ml_venv/lib64/python3.13/site-packages (from chromadb) (1.34.1)\n",
      "Requirement already satisfied: tokenizers>=0.13.2 in /home/macronomical/Dev/DevTools/ml_venv/lib64/python3.13/site-packages (from chromadb) (0.21.2)\n",
      "Requirement already satisfied: pypika>=0.48.9 in /home/macronomical/Dev/DevTools/ml_venv/lib64/python3.13/site-packages (from chromadb) (0.48.9)\n",
      "Requirement already satisfied: tqdm>=4.65.0 in /home/macronomical/Dev/DevTools/ml_venv/lib64/python3.13/site-packages (from chromadb) (4.67.1)\n",
      "Requirement already satisfied: overrides>=7.3.1 in /home/macronomical/Dev/DevTools/ml_venv/lib64/python3.13/site-packages (from chromadb) (7.7.0)\n",
      "Requirement already satisfied: importlib-resources in /home/macronomical/Dev/DevTools/ml_venv/lib64/python3.13/site-packages (from chromadb) (6.5.2)\n",
      "Requirement already satisfied: grpcio>=1.58.0 in /home/macronomical/Dev/DevTools/ml_venv/lib64/python3.13/site-packages (from chromadb) (1.73.1)\n",
      "Requirement already satisfied: bcrypt>=4.0.1 in /home/macronomical/Dev/DevTools/ml_venv/lib64/python3.13/site-packages (from chromadb) (4.3.0)\n",
      "Requirement already satisfied: typer>=0.9.0 in /home/macronomical/Dev/DevTools/ml_venv/lib64/python3.13/site-packages (from chromadb) (0.16.0)\n",
      "Requirement already satisfied: kubernetes>=28.1.0 in /home/macronomical/Dev/DevTools/ml_venv/lib64/python3.13/site-packages (from chromadb) (33.1.0)\n",
      "Requirement already satisfied: tenacity>=8.2.3 in /home/macronomical/Dev/DevTools/ml_venv/lib64/python3.13/site-packages (from chromadb) (9.1.2)\n",
      "Requirement already satisfied: pyyaml>=6.0.0 in /home/macronomical/Dev/DevTools/ml_venv/lib64/python3.13/site-packages (from chromadb) (6.0.2)\n",
      "Requirement already satisfied: mmh3>=4.0.1 in /home/macronomical/Dev/DevTools/ml_venv/lib64/python3.13/site-packages (from chromadb) (5.1.0)\n",
      "Requirement already satisfied: orjson>=3.9.12 in /home/macronomical/Dev/DevTools/ml_venv/lib64/python3.13/site-packages (from chromadb) (3.10.18)\n",
      "Requirement already satisfied: httpx>=0.27.0 in /home/macronomical/Dev/DevTools/ml_venv/lib64/python3.13/site-packages (from chromadb) (0.28.1)\n",
      "Requirement already satisfied: rich>=10.11.0 in /home/macronomical/Dev/DevTools/ml_venv/lib64/python3.13/site-packages (from chromadb) (14.0.0)\n",
      "Requirement already satisfied: jsonschema>=4.19.0 in /home/macronomical/Dev/DevTools/ml_venv/lib64/python3.13/site-packages (from chromadb) (4.24.0)\n",
      "Requirement already satisfied: packaging>=19.1 in /home/macronomical/Dev/DevTools/ml_venv/lib64/python3.13/site-packages (from build>=1.0.3->chromadb) (24.2)\n",
      "Requirement already satisfied: pyproject_hooks in /home/macronomical/Dev/DevTools/ml_venv/lib64/python3.13/site-packages (from build>=1.0.3->chromadb) (1.2.0)\n",
      "Requirement already satisfied: anyio in /home/macronomical/Dev/DevTools/ml_venv/lib64/python3.13/site-packages (from httpx>=0.27.0->chromadb) (4.9.0)\n",
      "Requirement already satisfied: certifi in /home/macronomical/Dev/DevTools/ml_venv/lib64/python3.13/site-packages (from httpx>=0.27.0->chromadb) (2025.6.15)\n",
      "Requirement already satisfied: httpcore==1.* in /home/macronomical/Dev/DevTools/ml_venv/lib64/python3.13/site-packages (from httpx>=0.27.0->chromadb) (1.0.9)\n",
      "Requirement already satisfied: idna in /home/macronomical/Dev/DevTools/ml_venv/lib64/python3.13/site-packages (from httpx>=0.27.0->chromadb) (3.10)\n",
      "Requirement already satisfied: h11>=0.16 in /home/macronomical/Dev/DevTools/ml_venv/lib64/python3.13/site-packages (from httpcore==1.*->httpx>=0.27.0->chromadb) (0.16.0)\n",
      "Requirement already satisfied: attrs>=22.2.0 in /home/macronomical/Dev/DevTools/ml_venv/lib64/python3.13/site-packages (from jsonschema>=4.19.0->chromadb) (25.3.0)\n",
      "Requirement already satisfied: jsonschema-specifications>=2023.03.6 in /home/macronomical/Dev/DevTools/ml_venv/lib64/python3.13/site-packages (from jsonschema>=4.19.0->chromadb) (2025.4.1)\n",
      "Requirement already satisfied: referencing>=0.28.4 in /home/macronomical/Dev/DevTools/ml_venv/lib64/python3.13/site-packages (from jsonschema>=4.19.0->chromadb) (0.36.2)\n",
      "Requirement already satisfied: rpds-py>=0.7.1 in /home/macronomical/Dev/DevTools/ml_venv/lib64/python3.13/site-packages (from jsonschema>=4.19.0->chromadb) (0.25.1)\n",
      "Requirement already satisfied: six>=1.9.0 in /home/macronomical/Dev/DevTools/ml_venv/lib64/python3.13/site-packages (from kubernetes>=28.1.0->chromadb) (1.17.0)\n",
      "Requirement already satisfied: python-dateutil>=2.5.3 in /home/macronomical/Dev/DevTools/ml_venv/lib64/python3.13/site-packages (from kubernetes>=28.1.0->chromadb) (2.9.0.post0)\n",
      "Requirement already satisfied: google-auth>=1.0.1 in /home/macronomical/Dev/DevTools/ml_venv/lib64/python3.13/site-packages (from kubernetes>=28.1.0->chromadb) (2.40.3)\n",
      "Requirement already satisfied: websocket-client!=0.40.0,!=0.41.*,!=0.42.*,>=0.32.0 in /home/macronomical/Dev/DevTools/ml_venv/lib64/python3.13/site-packages (from kubernetes>=28.1.0->chromadb) (1.8.0)\n",
      "Requirement already satisfied: requests in /home/macronomical/Dev/DevTools/ml_venv/lib64/python3.13/site-packages (from kubernetes>=28.1.0->chromadb) (2.32.4)\n",
      "Requirement already satisfied: requests-oauthlib in /home/macronomical/Dev/DevTools/ml_venv/lib64/python3.13/site-packages (from kubernetes>=28.1.0->chromadb) (2.0.0)\n",
      "Requirement already satisfied: oauthlib>=3.2.2 in /home/macronomical/Dev/DevTools/ml_venv/lib64/python3.13/site-packages (from kubernetes>=28.1.0->chromadb) (3.3.1)\n",
      "Requirement already satisfied: urllib3>=1.24.2 in /home/macronomical/Dev/DevTools/ml_venv/lib64/python3.13/site-packages (from kubernetes>=28.1.0->chromadb) (2.5.0)\n",
      "Requirement already satisfied: durationpy>=0.7 in /home/macronomical/Dev/DevTools/ml_venv/lib64/python3.13/site-packages (from kubernetes>=28.1.0->chromadb) (0.10)\n",
      "Requirement already satisfied: cachetools<6.0,>=2.0.0 in /home/macronomical/Dev/DevTools/ml_venv/lib64/python3.13/site-packages (from google-auth>=1.0.1->kubernetes>=28.1.0->chromadb) (5.5.2)\n",
      "Requirement already satisfied: pyasn1-modules>=0.2.1 in /home/macronomical/Dev/DevTools/ml_venv/lib64/python3.13/site-packages (from google-auth>=1.0.1->kubernetes>=28.1.0->chromadb) (0.4.2)\n",
      "Requirement already satisfied: rsa<5,>=3.1.4 in /home/macronomical/Dev/DevTools/ml_venv/lib64/python3.13/site-packages (from google-auth>=1.0.1->kubernetes>=28.1.0->chromadb) (4.9.1)\n",
      "Requirement already satisfied: pyasn1>=0.1.3 in /home/macronomical/Dev/DevTools/ml_venv/lib64/python3.13/site-packages (from rsa<5,>=3.1.4->google-auth>=1.0.1->kubernetes>=28.1.0->chromadb) (0.6.1)\n",
      "Requirement already satisfied: coloredlogs in /home/macronomical/Dev/DevTools/ml_venv/lib64/python3.13/site-packages (from onnxruntime>=1.14.1->chromadb) (15.0.1)\n",
      "Requirement already satisfied: flatbuffers in /home/macronomical/Dev/DevTools/ml_venv/lib64/python3.13/site-packages (from onnxruntime>=1.14.1->chromadb) (25.2.10)\n",
      "Requirement already satisfied: protobuf in /home/macronomical/Dev/DevTools/ml_venv/lib64/python3.13/site-packages (from onnxruntime>=1.14.1->chromadb) (5.29.5)\n",
      "Requirement already satisfied: sympy in /home/macronomical/Dev/DevTools/ml_venv/lib64/python3.13/site-packages (from onnxruntime>=1.14.1->chromadb) (1.14.0)\n",
      "Requirement already satisfied: importlib-metadata<8.8.0,>=6.0 in /home/macronomical/Dev/DevTools/ml_venv/lib64/python3.13/site-packages (from opentelemetry-api>=1.2.0->chromadb) (8.7.0)\n",
      "Requirement already satisfied: zipp>=3.20 in /home/macronomical/Dev/DevTools/ml_venv/lib64/python3.13/site-packages (from importlib-metadata<8.8.0,>=6.0->opentelemetry-api>=1.2.0->chromadb) (3.23.0)\n",
      "Requirement already satisfied: googleapis-common-protos~=1.52 in /home/macronomical/Dev/DevTools/ml_venv/lib64/python3.13/site-packages (from opentelemetry-exporter-otlp-proto-grpc>=1.2.0->chromadb) (1.70.0)\n",
      "Requirement already satisfied: opentelemetry-exporter-otlp-proto-common==1.34.1 in /home/macronomical/Dev/DevTools/ml_venv/lib64/python3.13/site-packages (from opentelemetry-exporter-otlp-proto-grpc>=1.2.0->chromadb) (1.34.1)\n",
      "Requirement already satisfied: opentelemetry-proto==1.34.1 in /home/macronomical/Dev/DevTools/ml_venv/lib64/python3.13/site-packages (from opentelemetry-exporter-otlp-proto-grpc>=1.2.0->chromadb) (1.34.1)\n",
      "Requirement already satisfied: opentelemetry-semantic-conventions==0.55b1 in /home/macronomical/Dev/DevTools/ml_venv/lib64/python3.13/site-packages (from opentelemetry-sdk>=1.2.0->chromadb) (0.55b1)\n",
      "Requirement already satisfied: backoff>=1.10.0 in /home/macronomical/Dev/DevTools/ml_venv/lib64/python3.13/site-packages (from posthog>=2.4.0->chromadb) (2.2.1)\n",
      "Requirement already satisfied: distro>=1.5.0 in /home/macronomical/Dev/DevTools/ml_venv/lib64/python3.13/site-packages (from posthog>=2.4.0->chromadb) (1.9.0)\n",
      "Requirement already satisfied: charset_normalizer<4,>=2 in /home/macronomical/Dev/DevTools/ml_venv/lib64/python3.13/site-packages (from requests->kubernetes>=28.1.0->chromadb) (3.4.2)\n",
      "Requirement already satisfied: annotated-types>=0.6.0 in /home/macronomical/Dev/DevTools/ml_venv/lib64/python3.13/site-packages (from pydantic>=1.9->chromadb) (0.7.0)\n",
      "Requirement already satisfied: pydantic-core==2.33.2 in /home/macronomical/Dev/DevTools/ml_venv/lib64/python3.13/site-packages (from pydantic>=1.9->chromadb) (2.33.2)\n",
      "Requirement already satisfied: typing-inspection>=0.4.0 in /home/macronomical/Dev/DevTools/ml_venv/lib64/python3.13/site-packages (from pydantic>=1.9->chromadb) (0.4.1)\n",
      "Requirement already satisfied: markdown-it-py>=2.2.0 in /home/macronomical/Dev/DevTools/ml_venv/lib64/python3.13/site-packages (from rich>=10.11.0->chromadb) (3.0.0)\n",
      "Requirement already satisfied: pygments<3.0.0,>=2.13.0 in /home/macronomical/Dev/DevTools/ml_venv/lib64/python3.13/site-packages (from rich>=10.11.0->chromadb) (2.19.2)\n",
      "Requirement already satisfied: mdurl~=0.1 in /home/macronomical/Dev/DevTools/ml_venv/lib64/python3.13/site-packages (from markdown-it-py>=2.2.0->rich>=10.11.0->chromadb) (0.1.2)\n",
      "Requirement already satisfied: huggingface-hub<1.0,>=0.16.4 in /home/macronomical/Dev/DevTools/ml_venv/lib64/python3.13/site-packages (from tokenizers>=0.13.2->chromadb) (0.33.1)\n",
      "Requirement already satisfied: filelock in /home/macronomical/Dev/DevTools/ml_venv/lib64/python3.13/site-packages (from huggingface-hub<1.0,>=0.16.4->tokenizers>=0.13.2->chromadb) (3.18.0)\n",
      "Requirement already satisfied: fsspec>=2023.5.0 in /home/macronomical/Dev/DevTools/ml_venv/lib64/python3.13/site-packages (from huggingface-hub<1.0,>=0.16.4->tokenizers>=0.13.2->chromadb) (2025.5.1)\n",
      "Requirement already satisfied: hf-xet<2.0.0,>=1.1.2 in /home/macronomical/Dev/DevTools/ml_venv/lib64/python3.13/site-packages (from huggingface-hub<1.0,>=0.16.4->tokenizers>=0.13.2->chromadb) (1.1.5)\n",
      "Requirement already satisfied: click>=8.0.0 in /home/macronomical/Dev/DevTools/ml_venv/lib64/python3.13/site-packages (from typer>=0.9.0->chromadb) (8.2.1)\n",
      "Requirement already satisfied: shellingham>=1.3.0 in /home/macronomical/Dev/DevTools/ml_venv/lib64/python3.13/site-packages (from typer>=0.9.0->chromadb) (1.5.4)\n",
      "Requirement already satisfied: httptools>=0.6.3 in /home/macronomical/Dev/DevTools/ml_venv/lib64/python3.13/site-packages (from uvicorn[standard]>=0.18.3->chromadb) (0.6.4)\n",
      "Requirement already satisfied: python-dotenv>=0.13 in /home/macronomical/Dev/DevTools/ml_venv/lib64/python3.13/site-packages (from uvicorn[standard]>=0.18.3->chromadb) (1.1.1)\n",
      "Requirement already satisfied: uvloop>=0.15.1 in /home/macronomical/Dev/DevTools/ml_venv/lib64/python3.13/site-packages (from uvicorn[standard]>=0.18.3->chromadb) (0.21.0)\n",
      "Requirement already satisfied: watchfiles>=0.13 in /home/macronomical/Dev/DevTools/ml_venv/lib64/python3.13/site-packages (from uvicorn[standard]>=0.18.3->chromadb) (1.1.0)\n",
      "Requirement already satisfied: websockets>=10.4 in /home/macronomical/Dev/DevTools/ml_venv/lib64/python3.13/site-packages (from uvicorn[standard]>=0.18.3->chromadb) (15.0.1)\n",
      "Requirement already satisfied: sniffio>=1.1 in /home/macronomical/Dev/DevTools/ml_venv/lib64/python3.13/site-packages (from anyio->httpx>=0.27.0->chromadb) (1.3.1)\n",
      "Requirement already satisfied: humanfriendly>=9.1 in /home/macronomical/Dev/DevTools/ml_venv/lib64/python3.13/site-packages (from coloredlogs->onnxruntime>=1.14.1->chromadb) (10.0)\n",
      "Requirement already satisfied: mpmath<1.4,>=1.1.0 in /home/macronomical/Dev/DevTools/ml_venv/lib64/python3.13/site-packages (from sympy->onnxruntime>=1.14.1->chromadb) (1.3.0)\n",
      "Requirement already satisfied: langchain-huggingface in /home/macronomical/Dev/DevTools/ml_venv/lib64/python3.13/site-packages (0.3.0)\n",
      "Requirement already satisfied: langchain-core<1.0.0,>=0.3.65 in /home/macronomical/Dev/DevTools/ml_venv/lib64/python3.13/site-packages (from langchain-huggingface) (0.3.67)\n",
      "Requirement already satisfied: tokenizers>=0.19.1 in /home/macronomical/Dev/DevTools/ml_venv/lib64/python3.13/site-packages (from langchain-huggingface) (0.21.2)\n",
      "Requirement already satisfied: huggingface-hub>=0.30.2 in /home/macronomical/Dev/DevTools/ml_venv/lib64/python3.13/site-packages (from langchain-huggingface) (0.33.1)\n",
      "Requirement already satisfied: langsmith>=0.3.45 in /home/macronomical/Dev/DevTools/ml_venv/lib64/python3.13/site-packages (from langchain-core<1.0.0,>=0.3.65->langchain-huggingface) (0.4.4)\n",
      "Requirement already satisfied: tenacity!=8.4.0,<10.0.0,>=8.1.0 in /home/macronomical/Dev/DevTools/ml_venv/lib64/python3.13/site-packages (from langchain-core<1.0.0,>=0.3.65->langchain-huggingface) (9.1.2)\n",
      "Requirement already satisfied: jsonpatch<2.0,>=1.33 in /home/macronomical/Dev/DevTools/ml_venv/lib64/python3.13/site-packages (from langchain-core<1.0.0,>=0.3.65->langchain-huggingface) (1.33)\n",
      "Requirement already satisfied: PyYAML>=5.3 in /home/macronomical/Dev/DevTools/ml_venv/lib64/python3.13/site-packages (from langchain-core<1.0.0,>=0.3.65->langchain-huggingface) (6.0.2)\n",
      "Requirement already satisfied: packaging<25,>=23.2 in /home/macronomical/Dev/DevTools/ml_venv/lib64/python3.13/site-packages (from langchain-core<1.0.0,>=0.3.65->langchain-huggingface) (24.2)\n",
      "Requirement already satisfied: typing-extensions>=4.7 in /home/macronomical/Dev/DevTools/ml_venv/lib64/python3.13/site-packages (from langchain-core<1.0.0,>=0.3.65->langchain-huggingface) (4.14.0)\n",
      "Requirement already satisfied: pydantic>=2.7.4 in /home/macronomical/Dev/DevTools/ml_venv/lib64/python3.13/site-packages (from langchain-core<1.0.0,>=0.3.65->langchain-huggingface) (2.11.7)\n",
      "Requirement already satisfied: jsonpointer>=1.9 in /home/macronomical/Dev/DevTools/ml_venv/lib64/python3.13/site-packages (from jsonpatch<2.0,>=1.33->langchain-core<1.0.0,>=0.3.65->langchain-huggingface) (3.0.0)\n",
      "Requirement already satisfied: filelock in /home/macronomical/Dev/DevTools/ml_venv/lib64/python3.13/site-packages (from huggingface-hub>=0.30.2->langchain-huggingface) (3.18.0)\n",
      "Requirement already satisfied: fsspec>=2023.5.0 in /home/macronomical/Dev/DevTools/ml_venv/lib64/python3.13/site-packages (from huggingface-hub>=0.30.2->langchain-huggingface) (2025.5.1)\n",
      "Requirement already satisfied: requests in /home/macronomical/Dev/DevTools/ml_venv/lib64/python3.13/site-packages (from huggingface-hub>=0.30.2->langchain-huggingface) (2.32.4)\n",
      "Requirement already satisfied: tqdm>=4.42.1 in /home/macronomical/Dev/DevTools/ml_venv/lib64/python3.13/site-packages (from huggingface-hub>=0.30.2->langchain-huggingface) (4.67.1)\n",
      "Requirement already satisfied: hf-xet<2.0.0,>=1.1.2 in /home/macronomical/Dev/DevTools/ml_venv/lib64/python3.13/site-packages (from huggingface-hub>=0.30.2->langchain-huggingface) (1.1.5)\n",
      "Requirement already satisfied: httpx<1,>=0.23.0 in /home/macronomical/Dev/DevTools/ml_venv/lib64/python3.13/site-packages (from langsmith>=0.3.45->langchain-core<1.0.0,>=0.3.65->langchain-huggingface) (0.28.1)\n",
      "Requirement already satisfied: orjson<4.0.0,>=3.9.14 in /home/macronomical/Dev/DevTools/ml_venv/lib64/python3.13/site-packages (from langsmith>=0.3.45->langchain-core<1.0.0,>=0.3.65->langchain-huggingface) (3.10.18)\n",
      "Requirement already satisfied: requests-toolbelt<2.0.0,>=1.0.0 in /home/macronomical/Dev/DevTools/ml_venv/lib64/python3.13/site-packages (from langsmith>=0.3.45->langchain-core<1.0.0,>=0.3.65->langchain-huggingface) (1.0.0)\n",
      "Requirement already satisfied: zstandard<0.24.0,>=0.23.0 in /home/macronomical/Dev/DevTools/ml_venv/lib64/python3.13/site-packages (from langsmith>=0.3.45->langchain-core<1.0.0,>=0.3.65->langchain-huggingface) (0.23.0)\n",
      "Requirement already satisfied: anyio in /home/macronomical/Dev/DevTools/ml_venv/lib64/python3.13/site-packages (from httpx<1,>=0.23.0->langsmith>=0.3.45->langchain-core<1.0.0,>=0.3.65->langchain-huggingface) (4.9.0)\n",
      "Requirement already satisfied: certifi in /home/macronomical/Dev/DevTools/ml_venv/lib64/python3.13/site-packages (from httpx<1,>=0.23.0->langsmith>=0.3.45->langchain-core<1.0.0,>=0.3.65->langchain-huggingface) (2025.6.15)\n",
      "Requirement already satisfied: httpcore==1.* in /home/macronomical/Dev/DevTools/ml_venv/lib64/python3.13/site-packages (from httpx<1,>=0.23.0->langsmith>=0.3.45->langchain-core<1.0.0,>=0.3.65->langchain-huggingface) (1.0.9)\n",
      "Requirement already satisfied: idna in /home/macronomical/Dev/DevTools/ml_venv/lib64/python3.13/site-packages (from httpx<1,>=0.23.0->langsmith>=0.3.45->langchain-core<1.0.0,>=0.3.65->langchain-huggingface) (3.10)\n",
      "Requirement already satisfied: h11>=0.16 in /home/macronomical/Dev/DevTools/ml_venv/lib64/python3.13/site-packages (from httpcore==1.*->httpx<1,>=0.23.0->langsmith>=0.3.45->langchain-core<1.0.0,>=0.3.65->langchain-huggingface) (0.16.0)\n",
      "Requirement already satisfied: annotated-types>=0.6.0 in /home/macronomical/Dev/DevTools/ml_venv/lib64/python3.13/site-packages (from pydantic>=2.7.4->langchain-core<1.0.0,>=0.3.65->langchain-huggingface) (0.7.0)\n",
      "Requirement already satisfied: pydantic-core==2.33.2 in /home/macronomical/Dev/DevTools/ml_venv/lib64/python3.13/site-packages (from pydantic>=2.7.4->langchain-core<1.0.0,>=0.3.65->langchain-huggingface) (2.33.2)\n",
      "Requirement already satisfied: typing-inspection>=0.4.0 in /home/macronomical/Dev/DevTools/ml_venv/lib64/python3.13/site-packages (from pydantic>=2.7.4->langchain-core<1.0.0,>=0.3.65->langchain-huggingface) (0.4.1)\n",
      "Requirement already satisfied: charset_normalizer<4,>=2 in /home/macronomical/Dev/DevTools/ml_venv/lib64/python3.13/site-packages (from requests->huggingface-hub>=0.30.2->langchain-huggingface) (3.4.2)\n",
      "Requirement already satisfied: urllib3<3,>=1.21.1 in /home/macronomical/Dev/DevTools/ml_venv/lib64/python3.13/site-packages (from requests->huggingface-hub>=0.30.2->langchain-huggingface) (2.5.0)\n",
      "Requirement already satisfied: sniffio>=1.1 in /home/macronomical/Dev/DevTools/ml_venv/lib64/python3.13/site-packages (from anyio->httpx<1,>=0.23.0->langsmith>=0.3.45->langchain-core<1.0.0,>=0.3.65->langchain-huggingface) (1.3.1)\n",
      "Collecting sentence-transformers\n",
      "  Downloading sentence_transformers-4.1.0-py3-none-any.whl.metadata (13 kB)\n",
      "Collecting transformers<5.0.0,>=4.41.0 (from sentence-transformers)\n",
      "  Downloading transformers-4.53.0-py3-none-any.whl.metadata (39 kB)\n",
      "Requirement already satisfied: tqdm in /home/macronomical/Dev/DevTools/ml_venv/lib64/python3.13/site-packages (from sentence-transformers) (4.67.1)\n",
      "Requirement already satisfied: torch>=1.11.0 in /home/macronomical/Dev/DevTools/ml_venv/lib64/python3.13/site-packages (from sentence-transformers) (2.7.1)\n",
      "Requirement already satisfied: scikit-learn in /home/macronomical/Dev/DevTools/ml_venv/lib64/python3.13/site-packages (from sentence-transformers) (1.7.0)\n",
      "Requirement already satisfied: scipy in /home/macronomical/Dev/DevTools/ml_venv/lib64/python3.13/site-packages (from sentence-transformers) (1.16.0)\n",
      "Requirement already satisfied: huggingface-hub>=0.20.0 in /home/macronomical/Dev/DevTools/ml_venv/lib64/python3.13/site-packages (from sentence-transformers) (0.33.1)\n",
      "Requirement already satisfied: Pillow in /home/macronomical/Dev/DevTools/ml_venv/lib64/python3.13/site-packages (from sentence-transformers) (11.2.1)\n",
      "Requirement already satisfied: typing_extensions>=4.5.0 in /home/macronomical/Dev/DevTools/ml_venv/lib64/python3.13/site-packages (from sentence-transformers) (4.14.0)\n",
      "Requirement already satisfied: filelock in /home/macronomical/Dev/DevTools/ml_venv/lib64/python3.13/site-packages (from transformers<5.0.0,>=4.41.0->sentence-transformers) (3.18.0)\n",
      "Requirement already satisfied: numpy>=1.17 in /home/macronomical/Dev/DevTools/ml_venv/lib64/python3.13/site-packages (from transformers<5.0.0,>=4.41.0->sentence-transformers) (2.3.1)\n",
      "Requirement already satisfied: packaging>=20.0 in /home/macronomical/Dev/DevTools/ml_venv/lib64/python3.13/site-packages (from transformers<5.0.0,>=4.41.0->sentence-transformers) (24.2)\n",
      "Requirement already satisfied: pyyaml>=5.1 in /home/macronomical/Dev/DevTools/ml_venv/lib64/python3.13/site-packages (from transformers<5.0.0,>=4.41.0->sentence-transformers) (6.0.2)\n",
      "Collecting regex!=2019.12.17 (from transformers<5.0.0,>=4.41.0->sentence-transformers)\n",
      "  Downloading regex-2024.11.6-cp313-cp313-manylinux_2_17_x86_64.manylinux2014_x86_64.whl.metadata (40 kB)\n",
      "Requirement already satisfied: requests in /home/macronomical/Dev/DevTools/ml_venv/lib64/python3.13/site-packages (from transformers<5.0.0,>=4.41.0->sentence-transformers) (2.32.4)\n",
      "Requirement already satisfied: tokenizers<0.22,>=0.21 in /home/macronomical/Dev/DevTools/ml_venv/lib64/python3.13/site-packages (from transformers<5.0.0,>=4.41.0->sentence-transformers) (0.21.2)\n",
      "Collecting safetensors>=0.4.3 (from transformers<5.0.0,>=4.41.0->sentence-transformers)\n",
      "  Downloading safetensors-0.5.3-cp38-abi3-manylinux_2_17_x86_64.manylinux2014_x86_64.whl.metadata (3.8 kB)\n",
      "Requirement already satisfied: fsspec>=2023.5.0 in /home/macronomical/Dev/DevTools/ml_venv/lib64/python3.13/site-packages (from huggingface-hub>=0.20.0->sentence-transformers) (2025.5.1)\n",
      "Requirement already satisfied: hf-xet<2.0.0,>=1.1.2 in /home/macronomical/Dev/DevTools/ml_venv/lib64/python3.13/site-packages (from huggingface-hub>=0.20.0->sentence-transformers) (1.1.5)\n",
      "Requirement already satisfied: setuptools in /home/macronomical/Dev/DevTools/ml_venv/lib64/python3.13/site-packages (from torch>=1.11.0->sentence-transformers) (80.9.0)\n",
      "Requirement already satisfied: sympy>=1.13.3 in /home/macronomical/Dev/DevTools/ml_venv/lib64/python3.13/site-packages (from torch>=1.11.0->sentence-transformers) (1.14.0)\n",
      "Requirement already satisfied: networkx in /home/macronomical/Dev/DevTools/ml_venv/lib64/python3.13/site-packages (from torch>=1.11.0->sentence-transformers) (3.5)\n",
      "Requirement already satisfied: jinja2 in /home/macronomical/Dev/DevTools/ml_venv/lib64/python3.13/site-packages (from torch>=1.11.0->sentence-transformers) (3.1.6)\n",
      "Requirement already satisfied: nvidia-cuda-nvrtc-cu12==12.6.77 in /home/macronomical/Dev/DevTools/ml_venv/lib64/python3.13/site-packages (from torch>=1.11.0->sentence-transformers) (12.6.77)\n",
      "Requirement already satisfied: nvidia-cuda-runtime-cu12==12.6.77 in /home/macronomical/Dev/DevTools/ml_venv/lib64/python3.13/site-packages (from torch>=1.11.0->sentence-transformers) (12.6.77)\n",
      "Requirement already satisfied: nvidia-cuda-cupti-cu12==12.6.80 in /home/macronomical/Dev/DevTools/ml_venv/lib64/python3.13/site-packages (from torch>=1.11.0->sentence-transformers) (12.6.80)\n",
      "Requirement already satisfied: nvidia-cudnn-cu12==9.5.1.17 in /home/macronomical/Dev/DevTools/ml_venv/lib64/python3.13/site-packages (from torch>=1.11.0->sentence-transformers) (9.5.1.17)\n",
      "Requirement already satisfied: nvidia-cublas-cu12==12.6.4.1 in /home/macronomical/Dev/DevTools/ml_venv/lib64/python3.13/site-packages (from torch>=1.11.0->sentence-transformers) (12.6.4.1)\n",
      "Requirement already satisfied: nvidia-cufft-cu12==11.3.0.4 in /home/macronomical/Dev/DevTools/ml_venv/lib64/python3.13/site-packages (from torch>=1.11.0->sentence-transformers) (11.3.0.4)\n",
      "Requirement already satisfied: nvidia-curand-cu12==10.3.7.77 in /home/macronomical/Dev/DevTools/ml_venv/lib64/python3.13/site-packages (from torch>=1.11.0->sentence-transformers) (10.3.7.77)\n",
      "Requirement already satisfied: nvidia-cusolver-cu12==11.7.1.2 in /home/macronomical/Dev/DevTools/ml_venv/lib64/python3.13/site-packages (from torch>=1.11.0->sentence-transformers) (11.7.1.2)\n",
      "Requirement already satisfied: nvidia-cusparse-cu12==12.5.4.2 in /home/macronomical/Dev/DevTools/ml_venv/lib64/python3.13/site-packages (from torch>=1.11.0->sentence-transformers) (12.5.4.2)\n",
      "Requirement already satisfied: nvidia-cusparselt-cu12==0.6.3 in /home/macronomical/Dev/DevTools/ml_venv/lib64/python3.13/site-packages (from torch>=1.11.0->sentence-transformers) (0.6.3)\n",
      "Requirement already satisfied: nvidia-nccl-cu12==2.26.2 in /home/macronomical/Dev/DevTools/ml_venv/lib64/python3.13/site-packages (from torch>=1.11.0->sentence-transformers) (2.26.2)\n",
      "Requirement already satisfied: nvidia-nvtx-cu12==12.6.77 in /home/macronomical/Dev/DevTools/ml_venv/lib64/python3.13/site-packages (from torch>=1.11.0->sentence-transformers) (12.6.77)\n",
      "Requirement already satisfied: nvidia-nvjitlink-cu12==12.6.85 in /home/macronomical/Dev/DevTools/ml_venv/lib64/python3.13/site-packages (from torch>=1.11.0->sentence-transformers) (12.6.85)\n",
      "Requirement already satisfied: nvidia-cufile-cu12==1.11.1.6 in /home/macronomical/Dev/DevTools/ml_venv/lib64/python3.13/site-packages (from torch>=1.11.0->sentence-transformers) (1.11.1.6)\n",
      "Requirement already satisfied: triton==3.3.1 in /home/macronomical/Dev/DevTools/ml_venv/lib64/python3.13/site-packages (from torch>=1.11.0->sentence-transformers) (3.3.1)\n",
      "Requirement already satisfied: mpmath<1.4,>=1.1.0 in /home/macronomical/Dev/DevTools/ml_venv/lib64/python3.13/site-packages (from sympy>=1.13.3->torch>=1.11.0->sentence-transformers) (1.3.0)\n",
      "Requirement already satisfied: MarkupSafe>=2.0 in /home/macronomical/Dev/DevTools/ml_venv/lib64/python3.13/site-packages (from jinja2->torch>=1.11.0->sentence-transformers) (3.0.2)\n",
      "Requirement already satisfied: charset_normalizer<4,>=2 in /home/macronomical/Dev/DevTools/ml_venv/lib64/python3.13/site-packages (from requests->transformers<5.0.0,>=4.41.0->sentence-transformers) (3.4.2)\n",
      "Requirement already satisfied: idna<4,>=2.5 in /home/macronomical/Dev/DevTools/ml_venv/lib64/python3.13/site-packages (from requests->transformers<5.0.0,>=4.41.0->sentence-transformers) (3.10)\n",
      "Requirement already satisfied: urllib3<3,>=1.21.1 in /home/macronomical/Dev/DevTools/ml_venv/lib64/python3.13/site-packages (from requests->transformers<5.0.0,>=4.41.0->sentence-transformers) (2.5.0)\n",
      "Requirement already satisfied: certifi>=2017.4.17 in /home/macronomical/Dev/DevTools/ml_venv/lib64/python3.13/site-packages (from requests->transformers<5.0.0,>=4.41.0->sentence-transformers) (2025.6.15)\n",
      "Requirement already satisfied: joblib>=1.2.0 in /home/macronomical/Dev/DevTools/ml_venv/lib64/python3.13/site-packages (from scikit-learn->sentence-transformers) (1.5.1)\n",
      "Requirement already satisfied: threadpoolctl>=3.1.0 in /home/macronomical/Dev/DevTools/ml_venv/lib64/python3.13/site-packages (from scikit-learn->sentence-transformers) (3.6.0)\n",
      "Downloading sentence_transformers-4.1.0-py3-none-any.whl (345 kB)\n",
      "Downloading transformers-4.53.0-py3-none-any.whl (10.8 MB)\n",
      "\u001b[2K   \u001b[90m━━━━━━━━━━━━━━━━━━━━━━━━━━━━━━━━━━━━━━━━\u001b[0m \u001b[32m10.8/10.8 MB\u001b[0m \u001b[31m11.4 MB/s\u001b[0m eta \u001b[36m0:00:00\u001b[0m \u001b[36m0:00:01\u001b[0m\n",
      "\u001b[?25hDownloading regex-2024.11.6-cp313-cp313-manylinux_2_17_x86_64.manylinux2014_x86_64.whl (796 kB)\n",
      "\u001b[2K   \u001b[90m━━━━━━━━━━━━━━━━━━━━━━━━━━━━━━━━━━━━━━━━\u001b[0m \u001b[32m796.9/796.9 kB\u001b[0m \u001b[31m16.5 MB/s\u001b[0m eta \u001b[36m0:00:00\u001b[0m\n",
      "\u001b[?25hDownloading safetensors-0.5.3-cp38-abi3-manylinux_2_17_x86_64.manylinux2014_x86_64.whl (471 kB)\n",
      "Installing collected packages: safetensors, regex, transformers, sentence-transformers\n",
      "\u001b[2K   \u001b[90m━━━━━━━━━━━━━━━━━━━━━━━━━━━━━━━━━━━━━━━━\u001b[0m \u001b[32m4/4\u001b[0m [sentence-transformers]ence-transformers]\n",
      "\u001b[1A\u001b[2KSuccessfully installed regex-2024.11.6 safetensors-0.5.3 sentence-transformers-4.1.0 transformers-4.53.0\n"
     ]
    }
   ],
   "source": [
    "!pip install chromadb\n",
    "!pip install -qU pypdf langchain-community\n",
    "!pip install -qU langchain-groq\n",
    "!pip install -U langchain-huggingface\n",
    "!pip install sentence-transformers\n",
    "\n"
   ]
  },
  {
   "cell_type": "code",
   "execution_count": null,
   "id": "19bae80f",
   "metadata": {},
   "outputs": [],
   "source": [
    "import getpass\n",
    "import os\n",
    "\n",
    "if \"GROQ_API_KEY\" not in os.environ:\n",
    "    os.environ[\"GROQ_API_KEY\"] = getpass.getpass(\"Enter your Groq API key: \")\n",
    "\n",
    "# os.environ[\"CHROMA_TELEMETRY_ENABLED\"] = \"FALSE\""
   ]
  },
  {
   "cell_type": "code",
   "execution_count": 18,
   "id": "273c629c",
   "metadata": {},
   "outputs": [
    {
     "data": {
      "text/plain": [
       "AIMessage(content=\"আমি গান গাইতে এবং নাচতে ভালোবাসি। \\n\\n(Ami gaan gaite ebong nachte bhalobashi.) \\n\\n\\nLet me know if you have anything else you'd like me to translate! 😊 \\n\", additional_kwargs={}, response_metadata={'token_usage': {'completion_tokens': 57, 'prompt_tokens': 42, 'total_tokens': 99, 'completion_time': 0.103636364, 'prompt_time': 0.00253853, 'queue_time': 0.247276799, 'total_time': 0.106174894}, 'model_name': 'gemma2-9b-it', 'system_fingerprint': 'fp_10c08bf97d', 'finish_reason': 'stop', 'logprobs': None}, id='run--ccf99bc8-4e05-4100-a61d-4a640dd3a87f-0', usage_metadata={'input_tokens': 42, 'output_tokens': 57, 'total_tokens': 99})"
      ]
     },
     "execution_count": 18,
     "metadata": {},
     "output_type": "execute_result"
    }
   ],
   "source": [
    "from langchain_groq import ChatGroq\n",
    "\n",
    "llm1 = ChatGroq(\n",
    "    model=\"gemma2-9b-it\",\n",
    "    temperature=0,\n",
    "    max_retries=2,\n",
    ")\n",
    "\n",
    "messages = [\n",
    "    \n",
    "        \"system\",\n",
    "        \"You are a helpful assistant that translates English to Bengali. Translate this  {I love to sing and dance}\",\n",
    "    \n",
    "]\n",
    "ai_msg = llm1.invoke(messages)\n",
    "ai_msg"
   ]
  },
  {
   "cell_type": "code",
   "execution_count": 19,
   "id": "d2988b53",
   "metadata": {},
   "outputs": [
    {
     "name": "stdout",
     "output_type": "stream",
     "text": [
      "content='Je adore le programmation !\\n\\n(Note: \"Je adore\" means \"I love\" and \"le programmation\" means \"programming\")' additional_kwargs={} response_metadata={'token_usage': {'completion_tokens': 28, 'prompt_tokens': 30, 'total_tokens': 58, 'completion_time': 0.020312602, 'prompt_time': 0.004981917, 'queue_time': 0.353683951, 'total_time': 0.025294519}, 'model_name': 'llama3-8b-8192', 'system_fingerprint': 'fp_8b7c3a83f7', 'finish_reason': 'stop', 'logprobs': None} id='run--a93f3ba8-9a1d-415f-9f3d-0167613c0f72-0' usage_metadata={'input_tokens': 30, 'output_tokens': 28, 'total_tokens': 58}\n"
     ]
    }
   ],
   "source": [
    "from langchain_groq import ChatGroq\n",
    "\n",
    "llm2 = ChatGroq(\n",
    "    model=\"llama3-8b-8192\",  # Replace with a valid model name\n",
    "    temperature=0,\n",
    ")\n",
    "\n",
    "messages = [\n",
    "    (\"system\", \"You are a helpful assistant that translates English to French.\"),\n",
    "    (\"human\", \"I love programming.\"),\n",
    "]\n",
    "\n",
    "response = llm2.invoke(messages)\n",
    "print(response)\n"
   ]
  },
  {
   "cell_type": "code",
   "execution_count": 20,
   "id": "8623493a",
   "metadata": {},
   "outputs": [],
   "source": [
    "import chromadb\n",
    "import chromadb.utils.embedding_functions as embedding_functions\n",
    "\n",
    "from langchain import hub\n",
    "from langchain_core.output_parsers import StrOutputParser\n",
    "from langchain_core.runnables import RunnablePassthrough\n",
    "from langchain.document_loaders import DirectoryLoader,PyPDFLoader\n",
    "from langchain.vectorstores import Chroma\n",
    "from langchain_huggingface import HuggingFaceEmbeddings\n",
    "from langchain.chains import RetrievalQA\n",
    "from langchain.prompts import PromptTemplate\n",
    "\n",
    "import pandas as pd\n",
    "from IPython.display import display\n",
    "from datetime import datetime"
   ]
  },
  {
   "cell_type": "code",
   "execution_count": 6,
   "id": "26d72eb5",
   "metadata": {},
   "outputs": [
    {
     "name": "stdout",
     "output_type": "stream",
     "text": [
      "\u001b[31mInit signature:\u001b[39m\n",
      "DirectoryLoader(\n",
      "    path: str,\n",
      "    glob: Union[List[str], Tuple[str], str] = \u001b[33m'**/[!.]*'\u001b[39m,\n",
      "    silent_errors: bool = \u001b[38;5;28;01mFalse\u001b[39;00m,\n",
      "    load_hidden: bool = \u001b[38;5;28;01mFalse\u001b[39;00m,\n",
      "    loader_cls: Union[Type[langchain_community.document_loaders.unstructured.UnstructuredFileLoader], Type[langchain_community.document_loaders.text.TextLoader], Type[langchain_community.document_loaders.html_bs.BSHTMLLoader], Type[langchain_community.document_loaders.csv_loader.CSVLoader]] = <\u001b[38;5;28;01mclass\u001b[39;00m \u001b[33m'langchain_community.document_loaders.unstructured.UnstructuredFileLoader'\u001b[39m>,\n",
      "    loader_kwargs: Optional[dict] = \u001b[38;5;28;01mNone\u001b[39;00m,\n",
      "    recursive: bool = \u001b[38;5;28;01mFalse\u001b[39;00m,\n",
      "    show_progress: bool = \u001b[38;5;28;01mFalse\u001b[39;00m,\n",
      "    use_multithreading: bool = \u001b[38;5;28;01mFalse\u001b[39;00m,\n",
      "    max_concurrency: int = \u001b[32m4\u001b[39m,\n",
      "    *,\n",
      "    exclude: Union[Sequence[str], str] = (),\n",
      "    sample_size: int = \u001b[32m0\u001b[39m,\n",
      "    randomize_sample: bool = \u001b[38;5;28;01mFalse\u001b[39;00m,\n",
      "    sample_seed: Optional[int] = \u001b[38;5;28;01mNone\u001b[39;00m,\n",
      ")\n",
      "\u001b[31mDocstring:\u001b[39m      Load from a directory.\n",
      "\u001b[31mInit docstring:\u001b[39m\n",
      "Initialize with a path to directory and how to glob over it.\n",
      "\n",
      "Args:\n",
      "    path: Path to directory.\n",
      "    glob: A glob pattern or list of glob patterns to use to find files.\n",
      "        Defaults to \"**/[!.]*\" (all files except hidden).\n",
      "    exclude: A pattern or list of patterns to exclude from results.\n",
      "        Use glob syntax.\n",
      "    silent_errors: Whether to silently ignore errors. Defaults to False.\n",
      "    load_hidden: Whether to load hidden files. Defaults to False.\n",
      "    loader_cls: Loader class to use for loading files.\n",
      "      Defaults to UnstructuredFileLoader.\n",
      "    loader_kwargs: Keyword arguments to pass to loader_cls. Defaults to None.\n",
      "    recursive: Whether to recursively search for files. Defaults to False.\n",
      "    show_progress: Whether to show a progress bar. Defaults to False.\n",
      "    use_multithreading: Whether to use multithreading. Defaults to False.\n",
      "    max_concurrency: The maximum number of threads to use. Defaults to 4.\n",
      "    sample_size: The maximum number of files you would like to load from the\n",
      "        directory.\n",
      "    randomize_sample: Shuffle the files to get a random sample.\n",
      "    sample_seed: set the seed of the random shuffle for reproducibility.\n",
      "\n",
      "Examples:\n",
      "\n",
      "    .. code-block:: python\n",
      "        from langchain_community.document_loaders import DirectoryLoader\n",
      "\n",
      "        # Load all non-hidden files in a directory.\n",
      "        loader = DirectoryLoader(\"/path/to/directory\")\n",
      "\n",
      "        # Load all text files in a directory without recursion.\n",
      "        loader = DirectoryLoader(\"/path/to/directory\", glob=\"*.txt\")\n",
      "\n",
      "        # Recursively load all text files in a directory.\n",
      "        loader = DirectoryLoader(\n",
      "            \"/path/to/directory\", glob=\"*.txt\", recursive=True\n",
      "        )\n",
      "\n",
      "        # Load all files in a directory, except for py files.\n",
      "        loader = DirectoryLoader(\"/path/to/directory\", exclude=\"*.py\")\n",
      "\n",
      "        # Load all files in a directory, except for py or pyc files.\n",
      "        loader = DirectoryLoader(\n",
      "            \"/path/to/directory\", exclude=[\"*.py\", \"*.pyc\"]\n",
      "        )\n",
      "\u001b[31mFile:\u001b[39m           ~/Dev/DevTools/ml_venv/lib64/python3.13/site-packages/langchain_community/document_loaders/directory.py\n",
      "\u001b[31mType:\u001b[39m           ABCMeta\n",
      "\u001b[31mSubclasses:\u001b[39m     "
     ]
    }
   ],
   "source": [
    "DirectoryLoader?"
   ]
  },
  {
   "cell_type": "code",
   "execution_count": 7,
   "id": "87114256",
   "metadata": {},
   "outputs": [],
   "source": [
    "loader = DirectoryLoader(\"docs\", glob=\"*.pdf\", loader_cls=PyPDFLoader)\n",
    "documents = loader.load()"
   ]
  },
  {
   "cell_type": "code",
   "execution_count": 9,
   "id": "10a1ad83",
   "metadata": {},
   "outputs": [
    {
     "data": {
      "application/vnd.jupyter.widget-view+json": {
       "model_id": "1b9a8c67ca5042ddbd5a6d9bbe47ce08",
       "version_major": 2,
       "version_minor": 0
      },
      "text/plain": [
       "modules.json:   0%|          | 0.00/349 [00:00<?, ?B/s]"
      ]
     },
     "metadata": {},
     "output_type": "display_data"
    },
    {
     "data": {
      "application/vnd.jupyter.widget-view+json": {
       "model_id": "6c14f7ed5dac47b4857148d441972d58",
       "version_major": 2,
       "version_minor": 0
      },
      "text/plain": [
       "config_sentence_transformers.json:   0%|          | 0.00/116 [00:00<?, ?B/s]"
      ]
     },
     "metadata": {},
     "output_type": "display_data"
    },
    {
     "data": {
      "application/vnd.jupyter.widget-view+json": {
       "model_id": "df3e984fe39e4227907f0c9d96dfdae1",
       "version_major": 2,
       "version_minor": 0
      },
      "text/plain": [
       "README.md: 0.00B [00:00, ?B/s]"
      ]
     },
     "metadata": {},
     "output_type": "display_data"
    },
    {
     "data": {
      "application/vnd.jupyter.widget-view+json": {
       "model_id": "bd86910df05543e69d4b724caab21807",
       "version_major": 2,
       "version_minor": 0
      },
      "text/plain": [
       "sentence_bert_config.json:   0%|          | 0.00/53.0 [00:00<?, ?B/s]"
      ]
     },
     "metadata": {},
     "output_type": "display_data"
    },
    {
     "data": {
      "application/vnd.jupyter.widget-view+json": {
       "model_id": "271d2146aa3d4b1d913b922562a3446d",
       "version_major": 2,
       "version_minor": 0
      },
      "text/plain": [
       "config.json:   0%|          | 0.00/612 [00:00<?, ?B/s]"
      ]
     },
     "metadata": {},
     "output_type": "display_data"
    },
    {
     "data": {
      "application/vnd.jupyter.widget-view+json": {
       "model_id": "2a4218e6bf4342ec90dee62aace240d3",
       "version_major": 2,
       "version_minor": 0
      },
      "text/plain": [
       "model.safetensors:   0%|          | 0.00/90.9M [00:00<?, ?B/s]"
      ]
     },
     "metadata": {},
     "output_type": "display_data"
    },
    {
     "data": {
      "application/vnd.jupyter.widget-view+json": {
       "model_id": "3e7440be0a99484fbf4ff52551c288de",
       "version_major": 2,
       "version_minor": 0
      },
      "text/plain": [
       "tokenizer_config.json:   0%|          | 0.00/350 [00:00<?, ?B/s]"
      ]
     },
     "metadata": {},
     "output_type": "display_data"
    },
    {
     "data": {
      "application/vnd.jupyter.widget-view+json": {
       "model_id": "98ed2c8cde2f42329ba9a6b2430ef7f8",
       "version_major": 2,
       "version_minor": 0
      },
      "text/plain": [
       "vocab.txt: 0.00B [00:00, ?B/s]"
      ]
     },
     "metadata": {},
     "output_type": "display_data"
    },
    {
     "data": {
      "application/vnd.jupyter.widget-view+json": {
       "model_id": "b25cee861b524a0db97b6a3810206c77",
       "version_major": 2,
       "version_minor": 0
      },
      "text/plain": [
       "tokenizer.json: 0.00B [00:00, ?B/s]"
      ]
     },
     "metadata": {},
     "output_type": "display_data"
    },
    {
     "data": {
      "application/vnd.jupyter.widget-view+json": {
       "model_id": "3896a8f82f5649ee86ec3bf81f4b05c3",
       "version_major": 2,
       "version_minor": 0
      },
      "text/plain": [
       "special_tokens_map.json:   0%|          | 0.00/112 [00:00<?, ?B/s]"
      ]
     },
     "metadata": {},
     "output_type": "display_data"
    },
    {
     "data": {
      "application/vnd.jupyter.widget-view+json": {
       "model_id": "f2ee3e8596194205a536bf5ff536426a",
       "version_major": 2,
       "version_minor": 0
      },
      "text/plain": [
       "config.json:   0%|          | 0.00/190 [00:00<?, ?B/s]"
      ]
     },
     "metadata": {},
     "output_type": "display_data"
    },
    {
     "name": "stderr",
     "output_type": "stream",
     "text": [
      "Failed to send telemetry event ClientStartEvent: capture() takes 1 positional argument but 3 were given\n",
      "Failed to send telemetry event ClientCreateCollectionEvent: capture() takes 1 positional argument but 3 were given\n",
      "/tmp/ipykernel_64397/2345364949.py:8: LangChainDeprecationWarning: Since Chroma 0.4.x the manual persistence method is no longer supported as docs are automatically persisted.\n",
      "  vectordb.persist()\n"
     ]
    }
   ],
   "source": [
    "embedding_function = HuggingFaceEmbeddings(model_name=\"all-MiniLM-L6-v2\")\n",
    "\n",
    "vectordb = Chroma.from_documents(\n",
    "    documents=documents,\n",
    "    embedding=embedding_function,\n",
    "    persist_directory=\"vector_store\"\n",
    ")\n",
    "vectordb.persist()\n"
   ]
  },
  {
   "cell_type": "code",
   "execution_count": 10,
   "id": "e6fd7853",
   "metadata": {},
   "outputs": [
    {
     "name": "stderr",
     "output_type": "stream",
     "text": [
      "/tmp/ipykernel_64397/3846477656.py:1: LangChainDeprecationWarning: The class `Chroma` was deprecated in LangChain 0.2.9 and will be removed in 1.0. An updated version of the class exists in the :class:`~langchain-chroma package and should be used instead. To use it run `pip install -U :class:`~langchain-chroma` and import as `from :class:`~langchain_chroma import Chroma``.\n",
      "  vectordb = Chroma(\n",
      "Failed to send telemetry event ClientStartEvent: capture() takes 1 positional argument but 3 were given\n",
      "Failed to send telemetry event ClientCreateCollectionEvent: capture() takes 1 positional argument but 3 were given\n"
     ]
    }
   ],
   "source": [
    "vectordb = Chroma(\n",
    "    persist_directory=\"vector_store\",\n",
    "    embedding_function=embedding_function\n",
    ")\n"
   ]
  },
  {
   "cell_type": "code",
   "execution_count": 36,
   "id": "8d7f7a87",
   "metadata": {},
   "outputs": [
    {
     "name": "stdout",
     "output_type": "stream",
     "text": [
      "c06.qxd  10/28/10  6:33 PM  Page 254\n"
     ]
    }
   ],
   "source": [
    "retriever = vectordb.as_retriever()\n",
    "docs = retriever.get_relevant_documents(\"What is this document about?\")\n",
    "print(docs[0].page_content[:500])  # Print first 500 chars of the top match\n"
   ]
  },
  {
   "cell_type": "code",
   "execution_count": 15,
   "id": "67289396",
   "metadata": {},
   "outputs": [
    {
     "name": "stdout",
     "output_type": "stream",
     "text": [
      "7200 N. Mopac, Suite 210 Austin, TX 78731                \n",
      "                                      www.williamsonperio.com \n",
      "                                                               512.346.2782 \n",
      " \n",
      "Toothpaste Abrasiveness Ranked by RDA (Relative Dentin Abrasion) Value \n",
      " \n",
      " \n",
      " \n",
      " \n",
      " \n",
      " \n",
      " \n",
      " \n",
      " \n",
      " \n",
      " \n",
      " \n",
      " \n",
      " \n",
      " \n",
      " \n",
      " \n",
      " \n",
      " \n",
      " \n",
      " \n",
      " \n",
      " \n",
      " \n",
      " \n",
      " \n",
      " \n",
      " \n",
      "            *The date from this chart was compiled from various sources including independent research and company literature. \n",
      "RDA Toothpast Name Toothpast Name\n",
      "4 Toothbru\n"
     ]
    }
   ],
   "source": [
    "docs = retriever.get_relevant_documents(\"Most Abrasive Toothpaste.\")\n",
    "print(docs[0].page_content[:500])\n"
   ]
  },
  {
   "cell_type": "code",
   "execution_count": 25,
   "id": "03da1604",
   "metadata": {},
   "outputs": [],
   "source": [
    "# Optional: Use a more structured or customized prompt\n",
    "prompt = PromptTemplate.from_template(\"\"\"\n",
    "Answer the question based only on the context below:\n",
    "\n",
    "{context}\n",
    "\n",
    "Question: {question}\n",
    "\"\"\")\n",
    "\n",
    "rag_chain = RetrievalQA.from_chain_type(\n",
    "    llm=llm2,\n",
    "    retriever=retriever,\n",
    "    chain_type=\"stuff\",  # Simple concatenation of context chunks\n",
    "    chain_type_kwargs={\"prompt\": prompt},\n",
    "    return_source_documents=True,  # Optional: see where answer came from\n",
    ")\n"
   ]
  },
  {
   "cell_type": "code",
   "execution_count": 35,
   "id": "d79b0240",
   "metadata": {},
   "outputs": [
    {
     "name": "stdout",
     "output_type": "stream",
     "text": [
      "Answer: Based on the provided context, the toothpastes are divided into 5 categories based on abrasiveness with their ranges and upper limits:\n",
      "\n",
      "1. Low Abrasive (0-70)\n",
      "2. Medium Abrasive (71-100)\n",
      "3. Highly Abrasive (101-150)\n",
      "4. Regarded as Harmful (151-250)\n",
      "5. Defectives (above 250)\n",
      "Sources: [Document(metadata={'author': 'ddouser', 'moddate': 'D:20140716094922', 'total_pages': 1, 'page': 0, 'creationdate': 'D:20140716094922', 'producer': 'Microsoft® Office Word 2007', 'page_label': '1', 'creator': 'Microsoft® Office Word 2007', 'source': 'docs/Toothpaste-Abrasiveness-Ranked-by-RDA.pdf'}, page_content=\"7200 N. Mopac, Suite 210 Austin, TX 78731                \\n                                      www.williamsonperio.com \\n                                                               512.346.2782 \\n \\nToothpaste Abrasiveness Ranked by RDA (Relative Dentin Abrasion) Value \\n \\n \\n \\n \\n \\n \\n \\n \\n \\n \\n \\n \\n \\n \\n \\n \\n \\n \\n \\n \\n \\n \\n \\n \\n \\n \\n \\n \\n            *The date from this chart was compiled from various sources including independent research and company literature. \\nRDA Toothpast Name Toothpast Name\\n4 Toothbrush with plain water Sensodyne Tartar Control Whitening\\n7 Plain baking soda Natural White\\n8 Arm & Hammer Tooth Powder Arm & Hammer Sensation\\n15 Weleda Salt Toothpaste Sensodyne Extra Whitening\\n30 Elmex Sensitive Plus Arm & Hammer Advance White\\n30 Weleda Tooth Products Crest Sensitivity Protection\\n34 ProNamel by Sensodyne Sensodyne Full Protection Whitening\\n35 Arm & Hammer Dental Care Crest Regular\\n42 Arm & Hammer Advanced Whitening / Peroxide Prevident 5000 Booster\\n45 Weleda Calendula Toothpaste Colgate Herbal \\n45 Weleda Pink Toothpaste with Ratanhia Aquafresh Whitening\\n45 Oxyfresh Arm & Hammer Advance White Gel\\n48 Arm & Hammer Dental Care Sensitive Arm & Hammer Sensation Tartar Control\\n49 Tom's of Maine Sensitive Close Up with Baking Soda\\n52 Arm & Hammer Peroxicare Regular Crest Sensitivity Whitening + Scope\\n53 Rembrandt Original Colgate Whitening\\n53 CloSYS Crest Extra Whitening\\n54 Arm & Hammer Sensitive + Whitening Ultra Brite\\n54 Arm & Hammer Dental Care PM Bold Mint Crest Pro Health Night\\n57 Tom's of Maine Childrens Toothpaste Colgate Total Whitening\\n63 Colgate Sensitive Enamel Protect Crest Pro Health Enamel Shield\\n63 Rembrandt Mint Ultra Brite Advanced Whitening \\n65 ClinPro Pepsodent\\n68 Colgate Regular Crest Sensitive Whitening\\n70 Colgate Total Crest Pro Health\\n70 Arm & Hammer Advance White Sensitive Colgate Total Advanced Fresh\\n70 Colgate 2-in-1 Fresh Mint Crest Pro Health Whitening\\n78 Biotene Colgate Tartar Control\\n79 Sensodyne Arm & Hammer Dental Care PM Fresh Mint\\n80 Close Up Nature's Gate paste\\n83 Colgate Sensitive Max Strength Colgate 2-in-1 Tartar Control / Whitening\\n84 Tom's of Maine FDA upper limit\\n85 Dentisse ADA upper limit\\n85 Rembrandt Intense Stain\\n87 Nature's Gate\\n90 Sensodyne Fresh Mint\\n91 Aquafresh Sensitive\\n92 Sensodyne Cool Gel\\n93 Tom's of Maine The RDA Table:\\n94 Rembrandt Plus 0-70 Low Abrasive\\n94 Sensodyne Fresh Impact 71-100 Medium Abradive\\n95 Oxyfresh  with Fluoride 101-150 Highly Abrasive\\n100 Sensodyne Original 151-250 Regarded as Harmful Limit\\n176\\n200\\n200\\n250\\n101\\n155\\n160\\n162\\n165\\n168\\n130\\n107\\n107\\n110\\n110\\n110\\n117\\n117\\n120\\n124\\n124\\n152\\n133\\n140\\n142\\n145\\n145\\n150\\n113\\nRDA\\n100\\n103\\n104\\n106\"), Document(metadata={'page': 1120, 'total_pages': 1283, 'creationdate': '2010-11-04T12:20:37+05:30', 'source': 'docs/Advanced Engineering Mathematics 10th Edition.pdf', 'creator': 'QuarkXPress: pictwpstops filter 1.0', 'gts_pdfxversion': 'PDF/X-1:2001', 'moddate': '2011-05-05T16:23:46-04:00', 'producer': 'Acrobat Distiller 7.0 (Windows)', 'gts_pdfxconformance': 'PDF/X-1a:2001', 'page_label': '1095', 'title': 'Advanced Engineering Mathematics, 10th Edition', 'trapped': '/False', 'ebx_publisher': '/Wiley, John & Sons, Incorporated', 'author': 'Erwin Kreyszig'}, page_content='defectives. Now of these lots are accepted. These contain defectives,\\nwhereas the rejected and rectified lots contain no defectives, because of the rectification.\\nHence after the rectification the fraction defective in all K lots equals This is\\ncalled the average outgoing quality (AOQ); thus\\n(4)\\nFigure 541 shows an example. Since and the AOQ curve has\\na maximum at some giving the average outgoing quality limit (AOQL). This is\\nthe worst average quality that may be expected to be accepted under rectification.\\nu /H11005u*,\\nP(A; 1) /H110050,AOQ(0) /H110050\\nAOQ(u) /H11005uP(A; u).\\nKPNu>KN.\\nKPNuKP(A; u)\\nSEC. 25.6 Acceptance Sampling 1095\\n∗\\nθ\\n1\\n0.5\\n0\\nAOQL AOQ curve\\nOC curve\\n0 0.5θ 1\\nFig. 541. OC curve and AOQ curve for the sampling plan in Fig. 538\\n1. Lots of kitchen knives are inspected by a sampling plan\\nthat uses a sample of size 20 and the acceptance number\\nWhat is the probability of accepting a lot with\\ndefectives (knives with dull blades)?\\nUse Table A6 of the Poisson distribution in App. 5.\\nGraph the OC curve.\\n2. What happens in Prob. 1 if the sample size is increased\\nto 50? First guess. Then calculate. Graph the OC curve\\nand compare.\\n3. How will the probabilities in Prob. 1 with \\nchange (up or down) if we decrease c to zero? First\\nguess.\\n4. What are the producer’s and consumer’s risks in\\nProb. 1 if the AQL is and the RQL is \\n5. Lots of copper pipes are inspected according to a\\nsample plan that uses sample size 25 and acceptance\\nnumber 1. Graph the OC curve of the plan, using the\\n15%?2%\\nn /H1100520\\n1%, 2%, 10%\\nc /H110051.\\nPoisson approximation. Find the producer’s risk if the\\nAQL is \\n6. Graph the AOQ curve in Prob. 5. Determine the AOQL,\\nassuming that rectification is applied.\\n7. In Example 1 in the text, what are the producer’s and\\nconsumer’s risks if the AQL is 0.1 and the RQL is 0.6?\\n8. What happens in Example 1 in the text if we increase\\nthe sample size to leaving the other data as\\nbefore? Compute and and compare\\nwith Example 1.\\n9. Graph and compare sampling plans with and\\nincreasing values of n, say, (Use the\\nbinomial distribution.)\\n10. Find the binomial approximation of the hypergeometric\\ndistribution in Example 1 in the text and compare the\\napproximate and the accurate values.\\nn /H110052, 3, 4.\\nc /H110051\\nP(A; 0.2)P(A; 0.1)\\nn /H110053,\\n1.5%.\\nPROBLEM SET 25.6\\nc25.qxd  11/3/10  6:21 PM  Page 1095'), Document(metadata={'total_pages': 1283, 'creator': 'QuarkXPress: pictwpstops filter 1.0', 'gts_pdfxversion': 'PDF/X-1:2001', 'producer': 'Acrobat Distiller 7.0 (Windows)', 'creationdate': '2010-11-04T12:20:37+05:30', 'page': 1043, 'moddate': '2011-05-05T16:23:46-04:00', 'source': 'docs/Advanced Engineering Mathematics 10th Edition.pdf', 'gts_pdfxconformance': 'PDF/X-1a:2001', 'title': 'Advanced Engineering Mathematics, 10th Edition', 'trapped': '/False', 'ebx_publisher': '/Wiley, John & Sons, Incorporated', 'page_label': '1018', 'author': 'Erwin Kreyszig'}, page_content='1018 CHAP. 24 Data Analysis. Probability Theory\\n7. Recording the daily maximum temperature X and the\\ndaily maximum air pressure Y at Times Square in New\\nYork\\n8. Choosing a committee of 2 from a group of 5 people\\n9. Drawing gaskets from a lot of 10, containing one\\ndefective D, unitil D is drawn, one at a time and\\nassuming sampling without replacement, that is,\\ngaskets drawn are not returned to the lot. (More about\\nthis in Sec. 24.6)\\n10. In rolling 3 dice, are the events A: Sum divisible by 3\\nand B: Sum divisible by 5 mutually exclusive?\\n11. Answer the questions in Prob. 10 for rolling 2 dice.\\n12. List all 8 subsets of the sample space \\n13. In Prob. 3 circle and mark the events A: Faces are equal,\\nB: Sum of faces less than 5,\\n14. In drawing 2 screws from a lot of right-handed and\\nleft-handed screws, let A, B, C, D mean at a least\\n1 right-handed, at least 1 left-handed, 2 right-handed,\\n2 left-handed, respectively. Are A and B mutually\\nexclusive? C and D?\\n15–20\\nVENN DIAGRAMS\\n15. In connection with a trip to Europe by some students,\\nconsider the events P that they see Paris, G that they\\nhave a good time, and M that they run out of money,\\nand describe in words the events in the\\ndiagram.\\n1, Á , 7\\nA /H20668B, A /H20669B, A\\nc, Bc.\\nS /H11005{a, b, c}.\\n16. Show that, by the definition of complement, for any\\nsubset A of a sample space S.\\n17. Using a Venn diagram, show that if and only if\\n18. Using a Venn diagram, show that if and only if\\n19. (De Morgan’s laws) Using Venn diagrams, graph and\\ncheck De Morgan’s laws\\n20. Using Venn diagrams, graph and check the rules\\n A /H20669(B /H20668C) /H11005(A /H20669B) /H20668(A /H20669C).\\n A /H20668(B /H20669C) /H11005(A /H20668B) /H20669(A /H20668C)\\n (A /H20669B)\\nc /H11005Ac /H20668Bc.\\n (A /H20668B)c /H11005Ac /H20669Bc\\nA /H20669B /H11005A.\\nA /H20661B\\nA /H20668B /H11005B.\\nA /H20661B\\nA /H20668Ac /H11005S,  A /H20669Ac /H11005/H11083.\\n(Ac)c /H11005A,  Sc /H11005/H11083,  /H11083c /H11005S,\\n24.3 Probability\\nThe “probability” of an event A in an experiment is supposed to measure how frequently\\nA is about to occur if we make many trials. If we flip a coin, then heads H and tails T\\nwill appear about equally often—we say that H and T are “equally likely.” Similarly, for\\na regularly shaped die of homogeneous material (“ fair die”) each of the six outcomes\\nwill be equally likely. These are examples of experiments in which the sample\\nspace S consists of finitely many outcomes (points) that for reasons of some symmetry\\ncan be regarded as equally likely. This suggests the following definition.\\nDEFINITION 1 First Definition of Probability\\nIf the sample space S of an experiment consists of finitely many outcomes (points)\\nthat are equally likely, then the probability of an event A is\\n(1) P(A) /H11005\\nNumber of points in A\\nNumber of points in S\\n  .\\nP(A)\\n1, Á , 6\\nMP\\nG\\n3\\n7\\n6\\n2\\n15\\n4\\nProblem 15\\nc24.qxd  11/3/10  5:12 PM  Page 1018'), Document(metadata={'producer': 'Acrobat Distiller 7.0 (Windows)', 'total_pages': 1283, 'ebx_publisher': '/Wiley, John & Sons, Incorporated', 'page_label': '1026', 'creationdate': '2010-11-04T12:20:37+05:30', 'gts_pdfxversion': 'PDF/X-1:2001', 'title': 'Advanced Engineering Mathematics, 10th Edition', 'author': 'Erwin Kreyszig', 'gts_pdfxconformance': 'PDF/X-1a:2001', 'creator': 'QuarkXPress: pictwpstops filter 1.0', 'page': 1051, 'trapped': '/False', 'source': 'docs/Advanced Engineering Mathematics 10th Edition.pdf', 'moddate': '2011-05-05T16:23:46-04:00'}, page_content='are different such permutations of a , b, c taken 2 letters at a time, namely, the\\npreceding 6 permutations and aa, bb, cc. You may prove (see Team Project 14):\\nTHEOREM 2 Permutations\\nThe number of different permutations of n different things taken k at a time without\\nrepetitions is\\n(3a)\\nand with repetitions is\\n(3b)\\nEXAMPLE 2 Illustration of Theorem 2\\nIn an encrypted message the letters are arranged in groups of five letters, called words. From (3b) we see that\\nthe number of different such words is\\nFrom (3a) it follows that the number of different such words containing each letter no more than once is\\nCombinations\\nIn a permutation, the order of the selected things is essential. In contrast, a combination\\nof given things means any selection of one or more things without regard to order. There\\nare two kinds of combinations, as follows.\\nThe number of combinations of n different things, taken k at a time, without\\nrepetitions is the number of sets that can be made up from the n given things, each set\\ncontaining k different things and no two sets containing exactly the same k things.\\nThe number of combinations of ndifferent things, taken kat a time, with repetitions\\nis the number of sets that can be made up of k things chosen from the given n things,\\neach being used as often as desired.\\nFor example, there are three combinations of the three letters a, b, c, taken two letters\\nat a time, without repetitions, namely, ab, ac, bc, and six such combinations with\\nrepetitions, namely, ab, ac, bc, aa, bb, cc.\\nTHEOREM 3 Combinations\\nThe number of different combinations of n different things taken, k at a time, without\\nrepetitions, is\\n(4a)\\nand the number of those combinations with repetitions is\\n(4b) an /H11001k /H110021\\nk b .\\nan\\nkb /H11005n!\\nk!(n /H11002k)! /H11005n(n /H110021) Á (n /H11002k /H110011)\\n1 /H185282 Á k  ,\\n/H1703926!>(26 /H110025)! /H1100526 /H1852825 /H1852824 /H1852823 /H1852822 /H110057,893,600.\\n265 /H1100511,881,376.\\nnk.\\nn(n /H110021)(n /H110022) Á (n /H11002k /H110011) /H11005n!\\n(n /H11002k)! \\n32 /H110059\\n1026 CHAP. 24 Data Analysis. Probability Theory\\nc24.qxd  11/3/10  5:12 PM  Page 1026')]\n"
     ]
    }
   ],
   "source": [
    "query = \"How many categories are Toothpastes divided into based on Abrasiveness with their ranges and upper limit\"\n",
    "result = rag_chain.invoke({\"query\": query})\n",
    "\n",
    "print(\"Answer:\", result[\"result\"])\n",
    "# Optional: see which docs contributed\n",
    "print(\"Sources:\", result[\"source_documents\"])\n"
   ]
  },
  {
   "cell_type": "code",
   "execution_count": null,
   "id": "b8ac76bf",
   "metadata": {},
   "outputs": [],
   "source": []
  }
 ],
 "metadata": {
  "kernelspec": {
   "display_name": "ml_venv (3.13.3)",
   "language": "python",
   "name": "python3"
  },
  "language_info": {
   "codemirror_mode": {
    "name": "ipython",
    "version": 3
   },
   "file_extension": ".py",
   "mimetype": "text/x-python",
   "name": "python",
   "nbconvert_exporter": "python",
   "pygments_lexer": "ipython3",
   "version": "3.13.3"
  }
 },
 "nbformat": 4,
 "nbformat_minor": 5
}
